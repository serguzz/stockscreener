{
 "cells": [
  {
   "cell_type": "markdown",
   "id": "a2da454b-1a39-4593-bdbc-3eaac7d607a4",
   "metadata": {},
   "source": [
    "### This script loads historic OHLCV data of Nasdaq stocks listed in the file. It needs to be run only once (first downloading of OHLCV). Afterwards scripts for updating existing data should be used.\n",
    "### Data saved to data/ folder to .csv files."
   ]
  },
  {
   "cell_type": "code",
   "execution_count": 2,
   "id": "7739e9b4-84f4-4324-9576-12c86b3a571c",
   "metadata": {},
   "outputs": [],
   "source": [
    "import yfinance as yf\n",
    "import pandas as pd\n",
    "import os\n",
    "# TODO: Multithread the process"
   ]
  },
  {
   "cell_type": "code",
   "execution_count": 4,
   "id": "60ac99fc-922b-4f61-bc5a-87b9425e8abc",
   "metadata": {},
   "outputs": [],
   "source": [
    "stable_symbols_files = ['nasdaq_symbols_stable.csv', 'nyse_symbols_stable.csv'] # before I fetched only stocks from file 'nasdaq_stocks_stable.csv'\n",
    "stable_symbols_file = 'nyse_symbols_stable.csv'\n",
    "ohlcv_folder = 'data'\n",
    "\n",
    "# Number of threads to use\n",
    "num_threads = 6"
   ]
  },
  {
   "cell_type": "code",
   "execution_count": 5,
   "id": "f87b0e10-06d3-4ca0-bb91-02dba5468dfc",
   "metadata": {},
   "outputs": [],
   "source": [
    "# Create a data folder if it doesn't exist\n",
    "os.makedirs(ohlcv_folder, exist_ok=True)"
   ]
  },
  {
   "cell_type": "code",
   "execution_count": 7,
   "id": "848d038e-6433-4528-b308-2d864806ce3d",
   "metadata": {},
   "outputs": [],
   "source": [
    "# Load the stable symbols from 'nasdaq_stocks_stable.csv'\n",
    "symbols_df = pd.read_csv(stable_symbols_file)\n",
    "symbols = symbols_df['Symbol'].tolist()  # Convert to a list"
   ]
  },
  {
   "cell_type": "code",
   "execution_count": 9,
   "id": "7df0b7b2-6079-4cdc-ba90-eeabca44ad10",
   "metadata": {},
   "outputs": [
    {
     "data": {
      "text/plain": [
       "4877"
      ]
     },
     "execution_count": 9,
     "metadata": {},
     "output_type": "execute_result"
    }
   ],
   "source": [
    "len(symbols)"
   ]
  },
  {
   "cell_type": "code",
   "execution_count": 27,
   "id": "19152499-e0cd-40c9-8df8-898a8f1ba351",
   "metadata": {},
   "outputs": [],
   "source": [
    "existing_symbols = set(data_file.split('.')[0] for data_file in os.listdir('data/') if data_file.endswith('.csv'))"
   ]
  },
  {
   "cell_type": "code",
   "execution_count": 29,
   "id": "960ff79b-b460-4b33-b9ce-2acda595c2b5",
   "metadata": {},
   "outputs": [],
   "source": [
    "symbols_to_fetch = [symbol for symbol in symbols if symbol not in existing_symbols]"
   ]
  },
  {
   "cell_type": "code",
   "execution_count": 31,
   "id": "c96463c4-0684-4223-9765-686d3af77cb2",
   "metadata": {},
   "outputs": [
    {
     "data": {
      "text/plain": [
       "0"
      ]
     },
     "execution_count": 31,
     "metadata": {},
     "output_type": "execute_result"
    }
   ],
   "source": [
    "len(symbols_to_fetch)"
   ]
  },
  {
   "cell_type": "code",
   "execution_count": 6,
   "id": "6b119316-4e5a-4cbb-a159-2cf9fea47e3a",
   "metadata": {},
   "outputs": [],
   "source": [
    "start_date = '2017-01-01'"
   ]
  },
  {
   "cell_type": "code",
   "execution_count": 8,
   "id": "4d766ee3-a6e0-4758-aadd-2a26d5fd4def",
   "metadata": {},
   "outputs": [],
   "source": [
    "# fetches and saves a symbol to file\n",
    "def fetch_save_ohlcv(symbol):\n",
    "    try:\n",
    "        # Fetch daily OHLCV data\n",
    "        stock_data = yf.download(symbol, start=start_date)  # Adjust start date as needed\n",
    "\n",
    "        # !! NEW CODE FOR OPTIMIZING MEMORY: float64 to float32\n",
    "        for col in stock_data.select_dtypes(include=['float64']).columns:\n",
    "            stock_data[col] = stock_data[col].astype('float32')\n",
    "        # !! NEW CODE END\n",
    "        \n",
    "        # Save the data to a CSV file named according to the symbol\n",
    "        stock_data.to_csv(f'{ohlcv_folder}/{symbol}.csv')\n",
    "        \n",
    "        print(f\"Saved data for {symbol} to {ohlcv_folder}/{symbol}.csv\")\n",
    "        \n",
    "    except Exception as e:\n",
    "        print(f\"Failed to fetch data for {symbol}: {e}\")"
   ]
  },
  {
   "cell_type": "code",
   "execution_count": 14,
   "id": "6b78f47a-bd9e-4c45-b97f-6e278baf5e60",
   "metadata": {},
   "outputs": [],
   "source": [
    "symbols_to_fetch = ['NRO']"
   ]
  },
  {
   "cell_type": "code",
   "execution_count": 16,
   "id": "88dbacbc-13af-4948-a939-149f7d320071",
   "metadata": {},
   "outputs": [
    {
     "name": "stdout",
     "output_type": "stream",
     "text": [
      "[*********************100%%**********************]  1 of 1 completed\n",
      "Saved data for NRO to data/NRO.csv\n"
     ]
    },
    {
     "name": "stderr",
     "output_type": "stream",
     "text": [
      "/home/serguz/anaconda3/lib/python3.11/site-packages/yfinance/utils.py:782: FutureWarning: The 'unit' keyword in TimedeltaIndex construction is deprecated and will be removed in a future version. Use pd.to_timedelta instead.\n",
      "  df.index += _pd.TimedeltaIndex(dst_error_hours, 'h')\n"
     ]
    }
   ],
   "source": [
    "for symbol in symbols_to_fetch:\n",
    "    fetch_save_ohlcv(symbol)"
   ]
  },
  {
   "cell_type": "code",
   "execution_count": null,
   "id": "93aa4f93-95cf-4c50-b450-25b951ec19d5",
   "metadata": {},
   "outputs": [],
   "source": []
  }
 ],
 "metadata": {
  "kernelspec": {
   "display_name": "Python 3 (ipykernel)",
   "language": "python",
   "name": "python3"
  },
  "language_info": {
   "codemirror_mode": {
    "name": "ipython",
    "version": 3
   },
   "file_extension": ".py",
   "mimetype": "text/x-python",
   "name": "python",
   "nbconvert_exporter": "python",
   "pygments_lexer": "ipython3",
   "version": "3.11.5"
  }
 },
 "nbformat": 4,
 "nbformat_minor": 5
}
