{
 "cells": [
  {
   "cell_type": "markdown",
   "id": "a2da454b-1a39-4593-bdbc-3eaac7d607a4",
   "metadata": {},
   "source": [
    "### This script loads historic OHLCV data of Nasdaq stocks traded for more than 8 years. It needs to be run only once (first downloading of OHLCV). Afterwards scripts for updating existing data should be used.\n",
    "### Data saved to data/ folder to .csv files."
   ]
  },
  {
   "cell_type": "code",
   "execution_count": 1,
   "id": "7739e9b4-84f4-4324-9576-12c86b3a571c",
   "metadata": {},
   "outputs": [],
   "source": [
    "import yfinance as yf\n",
    "import pandas as pd\n",
    "import os"
   ]
  },
  {
   "cell_type": "code",
   "execution_count": 3,
   "id": "a03e237b-6eaf-452d-806c-fb24b24875e9",
   "metadata": {},
   "outputs": [],
   "source": [
    "# Create a data folder if it doesn't exist\n",
    "os.makedirs('data', exist_ok=True)"
   ]
  },
  {
   "cell_type": "code",
   "execution_count": null,
   "id": "848d038e-6433-4528-b308-2d864806ce3d",
   "metadata": {},
   "outputs": [],
   "source": [
    "# Load the stable symbols from 'nasdaq_stocks_stable.csv'\n",
    "symbols_df = pd.read_csv('nasdaq_stocks_stable.csv')\n",
    "symbols = symbols_df['Symbol'].tolist()  # Convert to a list"
   ]
  },
  {
   "cell_type": "code",
   "execution_count": 9,
   "id": "fb166f7c-fcf8-4fe7-b6c9-e7acf54ad4f6",
   "metadata": {},
   "outputs": [],
   "source": [
    "symbols = ['AAL']"
   ]
  },
  {
   "cell_type": "code",
   "execution_count": 7,
   "id": "992b16f1-d938-4fdf-a27c-73c8c5aebb5a",
   "metadata": {},
   "outputs": [
    {
     "name": "stdout",
     "output_type": "stream",
     "text": [
      "[*********************100%%**********************]  1 of 1 completed\n",
      "Saved data for AAL to data/AAL.csv\n"
     ]
    },
    {
     "name": "stderr",
     "output_type": "stream",
     "text": [
      "/home/serguz/anaconda3/lib/python3.11/site-packages/yfinance/utils.py:782: FutureWarning: The 'unit' keyword in TimedeltaIndex construction is deprecated and will be removed in a future version. Use pd.to_timedelta instead.\n",
      "  df.index += _pd.TimedeltaIndex(dst_error_hours, 'h')\n"
     ]
    }
   ],
   "source": [
    "\n",
    "\n",
    "# Iterate through the stable symbols and fetch OHLCV data\n",
    "for symbol in symbols:\n",
    "    try:\n",
    "        # Fetch daily OHLCV data\n",
    "        stock_data = yf.download(symbol, start='2016-01-01')  # Adjust start date as needed\n",
    "        \n",
    "        # Save the data to a CSV file named according to the symbol\n",
    "        stock_data.to_csv(f'data/{symbol}.csv')\n",
    "        \n",
    "        print(f\"Saved data for {symbol} to data/{symbol}.csv\")\n",
    "        \n",
    "    except Exception as e:\n",
    "        print(f\"Failed to fetch data for {symbol}: {e}\")\n"
   ]
  },
  {
   "cell_type": "code",
   "execution_count": null,
   "id": "d904b477-a1cc-4635-af41-d7c536facc93",
   "metadata": {},
   "outputs": [],
   "source": []
  }
 ],
 "metadata": {
  "kernelspec": {
   "display_name": "Python 3 (ipykernel)",
   "language": "python",
   "name": "python3"
  },
  "language_info": {
   "codemirror_mode": {
    "name": "ipython",
    "version": 3
   },
   "file_extension": ".py",
   "mimetype": "text/x-python",
   "name": "python",
   "nbconvert_exporter": "python",
   "pygments_lexer": "ipython3",
   "version": "3.11.5"
  }
 },
 "nbformat": 4,
 "nbformat_minor": 5
}
