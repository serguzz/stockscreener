{
 "cells": [
  {
   "cell_type": "markdown",
   "id": "96ba2254-c3e8-454b-aeab-b6e84dc89ce9",
   "metadata": {},
   "source": [
    "### We take raw data from 'data/' folder , populate indicators and write it to 'data_with_indicators' folder"
   ]
  },
  {
   "cell_type": "code",
   "execution_count": null,
   "id": "a548f811-5c78-4212-a8cc-e63118c955de",
   "metadata": {},
   "outputs": [],
   "source": [
    "# !! TODO:   make the process multi-threaded"
   ]
  },
  {
   "cell_type": "code",
   "execution_count": 1,
   "id": "f69f8be4-4b98-412d-a31c-90ef778d3238",
   "metadata": {},
   "outputs": [],
   "source": [
    "import pandas as pd\n",
    "import os\n",
    "import pandas_ta as ta"
   ]
  },
  {
   "cell_type": "code",
   "execution_count": 3,
   "id": "df1f85d2-7524-4507-a0e0-5057c307c565",
   "metadata": {},
   "outputs": [],
   "source": [
    "# Define the folders for raw and output data\n",
    "ohlcv_folder = 'data'\n",
    "indicators_folder = 'data_with_indicators'\n",
    "os.makedirs(indicators_folder, exist_ok=True)"
   ]
  },
  {
   "cell_type": "code",
   "execution_count": 5,
   "id": "c4d0bd88-f713-4690-80d3-f88aaf214c6e",
   "metadata": {},
   "outputs": [],
   "source": [
    "ohlcv_files = sorted(os.listdir(ohlcv_folder))"
   ]
  },
  {
   "cell_type": "code",
   "execution_count": 7,
   "id": "0fa88872-3c7f-4835-9d88-3e4401fd86fb",
   "metadata": {},
   "outputs": [
    {
     "data": {
      "text/plain": [
       "4971"
      ]
     },
     "execution_count": 7,
     "metadata": {},
     "output_type": "execute_result"
    }
   ],
   "source": [
    "len(ohlcv_files)"
   ]
  },
  {
   "cell_type": "code",
   "execution_count": 9,
   "id": "ed016178-41e3-48d1-852d-a1d7679e187a",
   "metadata": {},
   "outputs": [],
   "source": [
    "# existing indicators files\n",
    "indicators_files = sorted(os.listdir(indicators_folder))"
   ]
  },
  {
   "cell_type": "code",
   "execution_count": 11,
   "id": "e60518fb-0fe6-4c98-a113-bdfe453a315d",
   "metadata": {},
   "outputs": [
    {
     "data": {
      "text/plain": [
       "1989"
      ]
     },
     "execution_count": 11,
     "metadata": {},
     "output_type": "execute_result"
    }
   ],
   "source": [
    "len(indicators_files)"
   ]
  },
  {
   "cell_type": "code",
   "execution_count": 13,
   "id": "1ee9c01b-fec2-4e44-9c22-13dfe24a262c",
   "metadata": {},
   "outputs": [],
   "source": [
    "# Filter out symbols that already have a file\n",
    "files_to_populate = [ohlcv_file for ohlcv_file in ohlcv_files if ohlcv_file not in indicators_files]"
   ]
  },
  {
   "cell_type": "code",
   "execution_count": 15,
   "id": "60b9c708-b2b5-461b-a54f-341870f72ccb",
   "metadata": {},
   "outputs": [
    {
     "data": {
      "text/plain": [
       "2982"
      ]
     },
     "execution_count": 15,
     "metadata": {},
     "output_type": "execute_result"
    }
   ],
   "source": [
    "len(files_to_populate)"
   ]
  },
  {
   "cell_type": "code",
   "execution_count": 5,
   "id": "8f3ff2b5-4144-4830-bcc9-7f55c9a9e063",
   "metadata": {},
   "outputs": [],
   "source": [
    "files_to_populate = ['NRO.csv']"
   ]
  },
  {
   "cell_type": "code",
   "execution_count": 7,
   "id": "db7d0d6b-40fb-4012-b5f9-3575053295b0",
   "metadata": {},
   "outputs": [
    {
     "name": "stdout",
     "output_type": "stream",
     "text": [
      "Indicators populated for NRO\n"
     ]
    }
   ],
   "source": [
    "# Iterate through each file not populated with indicators yet\n",
    "for filename in files_to_populate:\n",
    "    if filename.endswith('.csv'):\n",
    "        symbol = filename.split('.')[0]  # Extract the stock symbol\n",
    "        file_path = os.path.join(ohlcv_folder, filename)\n",
    "        \n",
    "        try:\n",
    "            # Load OHLCV data\n",
    "            data = pd.read_csv(file_path, index_col='Date', parse_dates=True)\n",
    "            \n",
    "            # Populate technical indicators\n",
    "            # SMA:\n",
    "            sma_windows = [10, 20, 50, 100, 200]\n",
    "            for sma_window in sma_windows:\n",
    "                data[f'SMA_{sma_window}'] = data['Close'].rolling(window=sma_window).mean()  # n-day Moving Average\n",
    "\n",
    "            # Bollinger Bands - for 20, 50, 200 windows\n",
    "            bb_windows = [20, 50, 200]\n",
    "            bb_deviation = 2.0\n",
    "            for bb_window in bb_windows:\n",
    "                data[f'BB_{bb_window}_upper'] = data[f'SMA_{bb_window}'] + (data['Close'].rolling(window=bb_window).std() * bb_deviation)  # Upper Band\n",
    "                data[f'BB_{bb_window}_lower'] = data[f'SMA_{bb_window}'] - (data['Close'].rolling(window=bb_window).std() * bb_deviation)  # Lower Band\n",
    "\n",
    "            # RSI:\n",
    "            rsi_windows = [7, 14, 30]\n",
    "            for rsi_window in rsi_windows:\n",
    "                data[f'RSI_{rsi_window}'] = ta.rsi(data['Close'], length=rsi_window)\n",
    "\n",
    "            # Avg_Volume\n",
    "            avg_vol_windows = [20, 40, 80]\n",
    "            for vol_window in avg_vol_windows:\n",
    "                data[f'Avg_Volume_{vol_window}'] = data['Volume'].rolling(window=vol_window).mean()\n",
    "            \n",
    "            # Optimize data types\n",
    "            for col in data.columns:\n",
    "                if data[col].dtype == 'float64':\n",
    "                    data[col] = data[col].astype('float32')  # Convert to float32\n",
    "\n",
    "            # Save the data with indicators to the output folder\n",
    "            \n",
    "            output_path = os.path.join(indicators_folder, filename)\n",
    "            data.to_csv(output_path)\n",
    "            \n",
    "            print(f\"Indicators populated for {symbol}\")\n",
    "\n",
    "        except Exception as e:\n",
    "            print(f\"Failed to process {symbol}: {e}\")"
   ]
  },
  {
   "cell_type": "code",
   "execution_count": null,
   "id": "12d7f671-0cdd-43da-8b2e-26e6a057a9ba",
   "metadata": {},
   "outputs": [],
   "source": []
  }
 ],
 "metadata": {
  "kernelspec": {
   "display_name": "Python 3 (ipykernel)",
   "language": "python",
   "name": "python3"
  },
  "language_info": {
   "codemirror_mode": {
    "name": "ipython",
    "version": 3
   },
   "file_extension": ".py",
   "mimetype": "text/x-python",
   "name": "python",
   "nbconvert_exporter": "python",
   "pygments_lexer": "ipython3",
   "version": "3.11.5"
  }
 },
 "nbformat": 4,
 "nbformat_minor": 5
}
